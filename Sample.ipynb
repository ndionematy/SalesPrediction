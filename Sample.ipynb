{
 "cells": [
  {
   "cell_type": "code",
   "execution_count": 14,
   "metadata": {
    "_cell_guid": "b1076dfc-b9ad-4769-8c92-a6c4dae69d19",
    "_uuid": "8f2839f25d086af736a60e9eeb907d3b93b6e0e5",
    "execution": {
     "iopub.execute_input": "2024-12-14T21:58:47.474802Z",
     "iopub.status.busy": "2024-12-14T21:58:47.474413Z",
     "iopub.status.idle": "2024-12-14T21:58:47.484494Z",
     "shell.execute_reply": "2024-12-14T21:58:47.483298Z",
     "shell.execute_reply.started": "2024-12-14T21:58:47.474770Z"
    },
    "trusted": true
   },
   "outputs": [
    {
     "name": "stdout",
     "output_type": "stream",
     "text": [
      "/kaggle/input/favorita-grocery-sales-forecasting/test.csv.7z\n",
      "/kaggle/input/favorita-grocery-sales-forecasting/stores.csv.7z\n",
      "/kaggle/input/favorita-grocery-sales-forecasting/items.csv.7z\n",
      "/kaggle/input/favorita-grocery-sales-forecasting/holidays_events.csv.7z\n",
      "/kaggle/input/favorita-grocery-sales-forecasting/transactions.csv.7z\n",
      "/kaggle/input/favorita-grocery-sales-forecasting/train.csv.7z\n",
      "/kaggle/input/favorita-grocery-sales-forecasting/oil.csv.7z\n",
      "/kaggle/input/favorita-grocery-sales-forecasting/sample_submission.csv.7z\n"
     ]
    }
   ],
   "source": [
    "# This Python 3 environment comes with many helpful analytics libraries installed\n",
    "# It is defined by the kaggle/python Docker image: https://github.com/kaggle/docker-python\n",
    "# For example, here's several helpful packages to load\n",
    "\n",
    "import numpy as np # linear algebra\n",
    "import pandas as pd # data processing, CSV file I/O (e.g. pd.read_csv)\n",
    "\n",
    "# Input data files are available in the read-only \"../input/\" directory\n",
    "# For example, running this (by clicking run or pressing Shift+Enter) will list all files under the input directory\n",
    "\n",
    "import os\n",
    "for dirname, _, filenames in os.walk('/kaggle/input'):\n",
    "    for filename in filenames:\n",
    "        print(os.path.join(dirname, filename))\n",
    "\n",
    "# You can write up to 20GB to the current directory (/kaggle/working/) that gets preserved as output when you create a version using \"Save & Run All\" \n",
    "# You can also write temporary files to /kaggle/temp/, but they won't be saved outside of the current session"
   ]
  },
  {
   "cell_type": "markdown",
   "metadata": {},
   "source": []
  },
  {
   "cell_type": "code",
   "execution_count": 15,
   "metadata": {
    "execution": {
     "iopub.execute_input": "2024-12-14T21:58:47.487060Z",
     "iopub.status.busy": "2024-12-14T21:58:47.486576Z",
     "iopub.status.idle": "2024-12-14T22:00:20.252660Z",
     "shell.execute_reply": "2024-12-14T22:00:20.251433Z",
     "shell.execute_reply.started": "2024-12-14T21:58:47.487012Z"
    },
    "trusted": true
   },
   "outputs": [
    {
     "name": "stdout",
     "output_type": "stream",
     "text": [
      "Requirement already satisfied: kaggle in /opt/conda/lib/python3.10/site-packages (1.6.17)\n",
      "Requirement already satisfied: six>=1.10 in /opt/conda/lib/python3.10/site-packages (from kaggle) (1.16.0)\n",
      "Requirement already satisfied: certifi>=2023.7.22 in /opt/conda/lib/python3.10/site-packages (from kaggle) (2024.6.2)\n",
      "Requirement already satisfied: python-dateutil in /opt/conda/lib/python3.10/site-packages (from kaggle) (2.9.0.post0)\n",
      "Requirement already satisfied: requests in /opt/conda/lib/python3.10/site-packages (from kaggle) (2.32.3)\n",
      "Requirement already satisfied: tqdm in /opt/conda/lib/python3.10/site-packages (from kaggle) (4.66.4)\n",
      "Requirement already satisfied: python-slugify in /opt/conda/lib/python3.10/site-packages (from kaggle) (8.0.4)\n",
      "Requirement already satisfied: urllib3 in /opt/conda/lib/python3.10/site-packages (from kaggle) (1.26.18)\n",
      "Requirement already satisfied: bleach in /opt/conda/lib/python3.10/site-packages (from kaggle) (6.1.0)\n",
      "Requirement already satisfied: webencodings in /opt/conda/lib/python3.10/site-packages (from bleach->kaggle) (0.5.1)\n",
      "Requirement already satisfied: text-unidecode>=1.3 in /opt/conda/lib/python3.10/site-packages (from python-slugify->kaggle) (1.3)\n",
      "Requirement already satisfied: charset-normalizer<4,>=2 in /opt/conda/lib/python3.10/site-packages (from requests->kaggle) (3.3.2)\n",
      "Requirement already satisfied: idna<4,>=2.5 in /opt/conda/lib/python3.10/site-packages (from requests->kaggle) (3.7)\n",
      "Collecting py7zr\n",
      "  Downloading py7zr-0.22.0-py3-none-any.whl.metadata (16 kB)\n",
      "Requirement already satisfied: texttable in /opt/conda/lib/python3.10/site-packages (from py7zr) (1.7.0)\n",
      "Collecting pycryptodomex>=3.16.0 (from py7zr)\n",
      "  Downloading pycryptodomex-3.21.0-cp36-abi3-manylinux_2_17_x86_64.manylinux2014_x86_64.whl.metadata (3.4 kB)\n",
      "Collecting pyzstd>=0.15.9 (from py7zr)\n",
      "  Downloading pyzstd-0.16.2-cp310-cp310-manylinux_2_17_x86_64.manylinux2014_x86_64.whl.metadata (2.4 kB)\n",
      "Collecting pyppmd<1.2.0,>=1.1.0 (from py7zr)\n",
      "  Downloading pyppmd-1.1.0-cp310-cp310-manylinux_2_17_x86_64.manylinux2014_x86_64.whl.metadata (5.7 kB)\n",
      "Collecting pybcj<1.1.0,>=1.0.0 (from py7zr)\n",
      "  Downloading pybcj-1.0.2-cp310-cp310-manylinux_2_17_x86_64.manylinux2014_x86_64.whl.metadata (4.0 kB)\n",
      "Collecting multivolumefile>=0.2.3 (from py7zr)\n",
      "  Downloading multivolumefile-0.2.3-py3-none-any.whl.metadata (6.3 kB)\n",
      "Collecting inflate64<1.1.0,>=1.0.0 (from py7zr)\n",
      "  Downloading inflate64-1.0.0-cp310-cp310-manylinux_2_17_x86_64.manylinux2014_x86_64.whl.metadata (4.0 kB)\n",
      "Requirement already satisfied: brotli>=1.1.0 in /opt/conda/lib/python3.10/site-packages (from py7zr) (1.1.0)\n",
      "Requirement already satisfied: psutil in /opt/conda/lib/python3.10/site-packages (from py7zr) (5.9.3)\n",
      "Downloading py7zr-0.22.0-py3-none-any.whl (67 kB)\n",
      "\u001b[2K   \u001b[90m━━━━━━━━━━━━━━━━━━━━━━━━━━━━━━━━━━━━━━━━\u001b[0m \u001b[32m67.9/67.9 kB\u001b[0m \u001b[31m3.3 MB/s\u001b[0m eta \u001b[36m0:00:00\u001b[0m\n",
      "\u001b[?25hDownloading inflate64-1.0.0-cp310-cp310-manylinux_2_17_x86_64.manylinux2014_x86_64.whl (93 kB)\n",
      "\u001b[2K   \u001b[90m━━━━━━━━━━━━━━━━━━━━━━━━━━━━━━━━━━━━━━━━\u001b[0m \u001b[32m93.1/93.1 kB\u001b[0m \u001b[31m4.8 MB/s\u001b[0m eta \u001b[36m0:00:00\u001b[0m\n",
      "\u001b[?25hDownloading multivolumefile-0.2.3-py3-none-any.whl (17 kB)\n",
      "Downloading pybcj-1.0.2-cp310-cp310-manylinux_2_17_x86_64.manylinux2014_x86_64.whl (49 kB)\n",
      "\u001b[2K   \u001b[90m━━━━━━━━━━━━━━━━━━━━━━━━━━━━━━━━━━━━━━━━\u001b[0m \u001b[32m49.7/49.7 kB\u001b[0m \u001b[31m2.6 MB/s\u001b[0m eta \u001b[36m0:00:00\u001b[0m\n",
      "\u001b[?25hDownloading pycryptodomex-3.21.0-cp36-abi3-manylinux_2_17_x86_64.manylinux2014_x86_64.whl (2.3 MB)\n",
      "\u001b[2K   \u001b[90m━━━━━━━━━━━━━━━━━━━━━━━━━━━━━━━━━━━━━━━━\u001b[0m \u001b[32m2.3/2.3 MB\u001b[0m \u001b[31m49.2 MB/s\u001b[0m eta \u001b[36m0:00:00\u001b[0m:00:01\u001b[0m\n",
      "\u001b[?25hDownloading pyppmd-1.1.0-cp310-cp310-manylinux_2_17_x86_64.manylinux2014_x86_64.whl (138 kB)\n",
      "\u001b[2K   \u001b[90m━━━━━━━━━━━━━━━━━━━━━━━━━━━━━━━━━━━━━━━━\u001b[0m \u001b[32m138.9/138.9 kB\u001b[0m \u001b[31m7.0 MB/s\u001b[0m eta \u001b[36m0:00:00\u001b[0m\n",
      "\u001b[?25hDownloading pyzstd-0.16.2-cp310-cp310-manylinux_2_17_x86_64.manylinux2014_x86_64.whl (413 kB)\n",
      "\u001b[2K   \u001b[90m━━━━━━━━━━━━━━━━━━━━━━━━━━━━━━━━━━━━━━━━\u001b[0m \u001b[32m413.7/413.7 kB\u001b[0m \u001b[31m21.4 MB/s\u001b[0m eta \u001b[36m0:00:00\u001b[0m\n",
      "\u001b[?25hInstalling collected packages: pyzstd, pyppmd, pycryptodomex, pybcj, multivolumefile, inflate64, py7zr\n",
      "Successfully installed inflate64-1.0.0 multivolumefile-0.2.3 py7zr-0.22.0 pybcj-1.0.2 pycryptodomex-3.21.0 pyppmd-1.1.0 pyzstd-0.16.2\n",
      "Requirement already satisfied: dask in /opt/conda/lib/python3.10/site-packages (2024.11.2)\n",
      "Requirement already satisfied: click>=8.1 in /opt/conda/lib/python3.10/site-packages (from dask) (8.1.7)\n",
      "Requirement already satisfied: cloudpickle>=3.0.0 in /opt/conda/lib/python3.10/site-packages (from dask) (3.1.0)\n",
      "Requirement already satisfied: fsspec>=2021.09.0 in /opt/conda/lib/python3.10/site-packages (from dask) (2024.9.0)\n",
      "Requirement already satisfied: packaging>=20.0 in /opt/conda/lib/python3.10/site-packages (from dask) (21.3)\n",
      "Requirement already satisfied: partd>=1.4.0 in /opt/conda/lib/python3.10/site-packages (from dask) (1.4.2)\n",
      "Requirement already satisfied: pyyaml>=5.3.1 in /opt/conda/lib/python3.10/site-packages (from dask) (6.0.2)\n",
      "Requirement already satisfied: toolz>=0.10.0 in /opt/conda/lib/python3.10/site-packages (from dask) (0.12.1)\n",
      "Requirement already satisfied: importlib-metadata>=4.13.0 in /opt/conda/lib/python3.10/site-packages (from dask) (7.0.0)\n",
      "Requirement already satisfied: zipp>=0.5 in /opt/conda/lib/python3.10/site-packages (from importlib-metadata>=4.13.0->dask) (3.19.2)\n",
      "Requirement already satisfied: pyparsing!=3.0.5,>=2.0.2 in /opt/conda/lib/python3.10/site-packages (from packaging>=20.0->dask) (3.1.2)\n",
      "Requirement already satisfied: locket in /opt/conda/lib/python3.10/site-packages (from partd>=1.4.0->dask) (1.0.0)\n",
      "Requirement already satisfied: dask[dataframe] in /opt/conda/lib/python3.10/site-packages (2024.11.2)\n",
      "Requirement already satisfied: click>=8.1 in /opt/conda/lib/python3.10/site-packages (from dask[dataframe]) (8.1.7)\n",
      "Requirement already satisfied: cloudpickle>=3.0.0 in /opt/conda/lib/python3.10/site-packages (from dask[dataframe]) (3.1.0)\n",
      "Requirement already satisfied: fsspec>=2021.09.0 in /opt/conda/lib/python3.10/site-packages (from dask[dataframe]) (2024.9.0)\n",
      "Requirement already satisfied: packaging>=20.0 in /opt/conda/lib/python3.10/site-packages (from dask[dataframe]) (21.3)\n",
      "Requirement already satisfied: partd>=1.4.0 in /opt/conda/lib/python3.10/site-packages (from dask[dataframe]) (1.4.2)\n",
      "Requirement already satisfied: pyyaml>=5.3.1 in /opt/conda/lib/python3.10/site-packages (from dask[dataframe]) (6.0.2)\n",
      "Requirement already satisfied: toolz>=0.10.0 in /opt/conda/lib/python3.10/site-packages (from dask[dataframe]) (0.12.1)\n",
      "Requirement already satisfied: importlib-metadata>=4.13.0 in /opt/conda/lib/python3.10/site-packages (from dask[dataframe]) (7.0.0)\n",
      "Requirement already satisfied: pandas>=2.0 in /opt/conda/lib/python3.10/site-packages (from dask[dataframe]) (2.2.3)\n",
      "Requirement already satisfied: dask-expr<1.2,>=1.1 in /opt/conda/lib/python3.10/site-packages (from dask[dataframe]) (1.1.19)\n",
      "Requirement already satisfied: pyarrow>=14.0.1 in /opt/conda/lib/python3.10/site-packages (from dask-expr<1.2,>=1.1->dask[dataframe]) (18.1.0)\n",
      "Requirement already satisfied: zipp>=0.5 in /opt/conda/lib/python3.10/site-packages (from importlib-metadata>=4.13.0->dask[dataframe]) (3.19.2)\n",
      "Requirement already satisfied: pyparsing!=3.0.5,>=2.0.2 in /opt/conda/lib/python3.10/site-packages (from packaging>=20.0->dask[dataframe]) (3.1.2)\n",
      "Requirement already satisfied: numpy>=1.22.4 in /opt/conda/lib/python3.10/site-packages (from pandas>=2.0->dask[dataframe]) (1.26.4)\n",
      "Requirement already satisfied: python-dateutil>=2.8.2 in /opt/conda/lib/python3.10/site-packages (from pandas>=2.0->dask[dataframe]) (2.9.0.post0)\n",
      "Requirement already satisfied: pytz>=2020.1 in /opt/conda/lib/python3.10/site-packages (from pandas>=2.0->dask[dataframe]) (2024.1)\n",
      "Requirement already satisfied: tzdata>=2022.7 in /opt/conda/lib/python3.10/site-packages (from pandas>=2.0->dask[dataframe]) (2024.1)\n",
      "Requirement already satisfied: locket in /opt/conda/lib/python3.10/site-packages (from partd>=1.4.0->dask[dataframe]) (1.0.0)\n",
      "Requirement already satisfied: six>=1.5 in /opt/conda/lib/python3.10/site-packages (from python-dateutil>=2.8.2->pandas>=2.0->dask[dataframe]) (1.16.0)\n",
      "Collecting pyunpack\n",
      "  Downloading pyunpack-0.3-py2.py3-none-any.whl.metadata (863 bytes)\n",
      "Collecting easyprocess (from pyunpack)\n",
      "  Downloading EasyProcess-1.1-py3-none-any.whl.metadata (855 bytes)\n",
      "Collecting entrypoint2 (from pyunpack)\n",
      "  Downloading entrypoint2-1.1-py2.py3-none-any.whl.metadata (1.0 kB)\n",
      "Downloading pyunpack-0.3-py2.py3-none-any.whl (4.1 kB)\n",
      "Downloading EasyProcess-1.1-py3-none-any.whl (8.7 kB)\n",
      "Downloading entrypoint2-1.1-py2.py3-none-any.whl (9.9 kB)\n",
      "Installing collected packages: entrypoint2, easyprocess, pyunpack\n",
      "Successfully installed easyprocess-1.1 entrypoint2-1.1 pyunpack-0.3\n",
      "Collecting patool\n",
      "  Downloading patool-3.1.0-py2.py3-none-any.whl.metadata (4.3 kB)\n",
      "Downloading patool-3.1.0-py2.py3-none-any.whl (98 kB)\n",
      "\u001b[2K   \u001b[90m━━━━━━━━━━━━━━━━━━━━━━━━━━━━━━━━━━━━━━━━\u001b[0m \u001b[32m98.4/98.4 kB\u001b[0m \u001b[31m4.0 MB/s\u001b[0m eta \u001b[36m0:00:00\u001b[0m\n",
      "\u001b[?25hInstalling collected packages: patool\n",
      "Successfully installed patool-3.1.0\n",
      "Requirement already satisfied: dask in /opt/conda/lib/python3.10/site-packages (2024.11.2)\n",
      "Collecting dask-ml\n",
      "  Downloading dask_ml-2024.4.4-py3-none-any.whl.metadata (5.9 kB)\n",
      "Requirement already satisfied: click>=8.1 in /opt/conda/lib/python3.10/site-packages (from dask) (8.1.7)\n",
      "Requirement already satisfied: cloudpickle>=3.0.0 in /opt/conda/lib/python3.10/site-packages (from dask) (3.1.0)\n",
      "Requirement already satisfied: fsspec>=2021.09.0 in /opt/conda/lib/python3.10/site-packages (from dask) (2024.9.0)\n",
      "Requirement already satisfied: packaging>=20.0 in /opt/conda/lib/python3.10/site-packages (from dask) (21.3)\n",
      "Requirement already satisfied: partd>=1.4.0 in /opt/conda/lib/python3.10/site-packages (from dask) (1.4.2)\n",
      "Requirement already satisfied: pyyaml>=5.3.1 in /opt/conda/lib/python3.10/site-packages (from dask) (6.0.2)\n",
      "Requirement already satisfied: toolz>=0.10.0 in /opt/conda/lib/python3.10/site-packages (from dask) (0.12.1)\n",
      "Requirement already satisfied: importlib-metadata>=4.13.0 in /opt/conda/lib/python3.10/site-packages (from dask) (7.0.0)\n",
      "Collecting dask-glm>=0.2.0 (from dask-ml)\n",
      "  Downloading dask_glm-0.3.2-py2.py3-none-any.whl.metadata (1.5 kB)\n",
      "Collecting distributed>=2.4.0 (from dask-ml)\n",
      "  Downloading distributed-2024.12.0-py3-none-any.whl.metadata (3.3 kB)\n",
      "Requirement already satisfied: multipledispatch>=0.4.9 in /opt/conda/lib/python3.10/site-packages (from dask-ml) (1.0.0)\n",
      "Requirement already satisfied: numba>=0.51.0 in /opt/conda/lib/python3.10/site-packages (from dask-ml) (0.60.0)\n",
      "Requirement already satisfied: numpy>=1.20.0 in /opt/conda/lib/python3.10/site-packages (from dask-ml) (1.26.4)\n",
      "Requirement already satisfied: pandas>=0.24.2 in /opt/conda/lib/python3.10/site-packages (from dask-ml) (2.2.3)\n",
      "Requirement already satisfied: scikit-learn>=1.2.0 in /opt/conda/lib/python3.10/site-packages (from dask-ml) (1.2.2)\n",
      "Requirement already satisfied: scipy in /opt/conda/lib/python3.10/site-packages (from dask-ml) (1.14.1)\n",
      "Collecting sparse>=0.7.0 (from dask-glm>=0.2.0->dask-ml)\n",
      "  Downloading sparse-0.15.4-py2.py3-none-any.whl.metadata (4.5 kB)\n",
      "Requirement already satisfied: dask-expr<1.2,>=1.1 in /opt/conda/lib/python3.10/site-packages (from dask[array,dataframe]>=2.4.0->dask-ml) (1.1.19)\n",
      "INFO: pip is looking at multiple versions of distributed to determine which version is compatible with other requirements. This could take a while.\n",
      "Collecting distributed>=2.4.0 (from dask-ml)\n",
      "  Downloading distributed-2024.11.2-py3-none-any.whl.metadata (3.3 kB)\n",
      "Requirement already satisfied: jinja2>=2.10.3 in /opt/conda/lib/python3.10/site-packages (from distributed>=2.4.0->dask-ml) (3.1.4)\n",
      "Requirement already satisfied: locket>=1.0.0 in /opt/conda/lib/python3.10/site-packages (from distributed>=2.4.0->dask-ml) (1.0.0)\n",
      "Requirement already satisfied: msgpack>=1.0.2 in /opt/conda/lib/python3.10/site-packages (from distributed>=2.4.0->dask-ml) (1.0.8)\n",
      "Requirement already satisfied: psutil>=5.8.0 in /opt/conda/lib/python3.10/site-packages (from distributed>=2.4.0->dask-ml) (5.9.3)\n",
      "Collecting sortedcontainers>=2.0.5 (from distributed>=2.4.0->dask-ml)\n",
      "  Downloading sortedcontainers-2.4.0-py2.py3-none-any.whl.metadata (10 kB)\n",
      "Collecting tblib>=1.6.0 (from distributed>=2.4.0->dask-ml)\n",
      "  Downloading tblib-3.0.0-py3-none-any.whl.metadata (25 kB)\n",
      "Requirement already satisfied: tornado>=6.2.0 in /opt/conda/lib/python3.10/site-packages (from distributed>=2.4.0->dask-ml) (6.4.1)\n",
      "Requirement already satisfied: urllib3>=1.26.5 in /opt/conda/lib/python3.10/site-packages (from distributed>=2.4.0->dask-ml) (1.26.18)\n",
      "Collecting zict>=3.0.0 (from distributed>=2.4.0->dask-ml)\n",
      "  Downloading zict-3.0.0-py2.py3-none-any.whl.metadata (899 bytes)\n",
      "Requirement already satisfied: zipp>=0.5 in /opt/conda/lib/python3.10/site-packages (from importlib-metadata>=4.13.0->dask) (3.19.2)\n",
      "Requirement already satisfied: llvmlite<0.44,>=0.43.0dev0 in /opt/conda/lib/python3.10/site-packages (from numba>=0.51.0->dask-ml) (0.43.0)\n",
      "Requirement already satisfied: pyparsing!=3.0.5,>=2.0.2 in /opt/conda/lib/python3.10/site-packages (from packaging>=20.0->dask) (3.1.2)\n",
      "Requirement already satisfied: python-dateutil>=2.8.2 in /opt/conda/lib/python3.10/site-packages (from pandas>=0.24.2->dask-ml) (2.9.0.post0)\n",
      "Requirement already satisfied: pytz>=2020.1 in /opt/conda/lib/python3.10/site-packages (from pandas>=0.24.2->dask-ml) (2024.1)\n",
      "Requirement already satisfied: tzdata>=2022.7 in /opt/conda/lib/python3.10/site-packages (from pandas>=0.24.2->dask-ml) (2024.1)\n",
      "Requirement already satisfied: joblib>=1.1.1 in /opt/conda/lib/python3.10/site-packages (from scikit-learn>=1.2.0->dask-ml) (1.4.2)\n",
      "Requirement already satisfied: threadpoolctl>=2.0.0 in /opt/conda/lib/python3.10/site-packages (from scikit-learn>=1.2.0->dask-ml) (3.5.0)\n",
      "Requirement already satisfied: pyarrow>=14.0.1 in /opt/conda/lib/python3.10/site-packages (from dask-expr<1.2,>=1.1->dask[array,dataframe]>=2.4.0->dask-ml) (18.1.0)\n",
      "Requirement already satisfied: MarkupSafe>=2.0 in /opt/conda/lib/python3.10/site-packages (from jinja2>=2.10.3->distributed>=2.4.0->dask-ml) (2.1.5)\n",
      "Requirement already satisfied: six>=1.5 in /opt/conda/lib/python3.10/site-packages (from python-dateutil>=2.8.2->pandas>=0.24.2->dask-ml) (1.16.0)\n",
      "Downloading dask_ml-2024.4.4-py3-none-any.whl (149 kB)\n",
      "\u001b[2K   \u001b[90m━━━━━━━━━━━━━━━━━━━━━━━━━━━━━━━━━━━━━━━━\u001b[0m \u001b[32m149.8/149.8 kB\u001b[0m \u001b[31m5.8 MB/s\u001b[0m eta \u001b[36m0:00:00\u001b[0m\n",
      "\u001b[?25hDownloading dask_glm-0.3.2-py2.py3-none-any.whl (13 kB)\n",
      "Downloading distributed-2024.11.2-py3-none-any.whl (1.0 MB)\n",
      "\u001b[2K   \u001b[90m━━━━━━━━━━━━━━━━━━━━━━━━━━━━━━━━━━━━━━━━\u001b[0m \u001b[32m1.0/1.0 MB\u001b[0m \u001b[31m36.8 MB/s\u001b[0m eta \u001b[36m0:00:00\u001b[0m\n",
      "\u001b[?25hDownloading sortedcontainers-2.4.0-py2.py3-none-any.whl (29 kB)\n",
      "Downloading sparse-0.15.4-py2.py3-none-any.whl (237 kB)\n",
      "\u001b[2K   \u001b[90m━━━━━━━━━━━━━━━━━━━━━━━━━━━━━━━━━━━━━━━━\u001b[0m \u001b[32m237.3/237.3 kB\u001b[0m \u001b[31m12.8 MB/s\u001b[0m eta \u001b[36m0:00:00\u001b[0m\n",
      "\u001b[?25hDownloading tblib-3.0.0-py3-none-any.whl (12 kB)\n",
      "Downloading zict-3.0.0-py2.py3-none-any.whl (43 kB)\n",
      "\u001b[2K   \u001b[90m━━━━━━━━━━━━━━━━━━━━━━━━━━━━━━━━━━━━━━━━\u001b[0m \u001b[32m43.3/43.3 kB\u001b[0m \u001b[31m1.7 MB/s\u001b[0m eta \u001b[36m0:00:00\u001b[0m\n",
      "\u001b[?25hInstalling collected packages: sortedcontainers, zict, tblib, sparse, distributed, dask-glm, dask-ml\n",
      "Successfully installed dask-glm-0.3.2 dask-ml-2024.4.4 distributed-2024.11.2 sortedcontainers-2.4.0 sparse-0.15.4 tblib-3.0.0 zict-3.0.0\n"
     ]
    }
   ],
   "source": [
    "!pip install kaggle\n",
    "# !pip install py7zr\n",
    "!pip install dask\n",
    "!pip install dask[dataframe]\n",
    "!pip install pyunpack\n",
    "!pip install patool\n",
    "#os.system('apt-get install p7zip')\n",
    "!pip install -U -q PyDrive\n",
    "!pip install dask dask-ml\n"
   ]
  },
  {
   "cell_type": "code",
   "execution_count": 16,
   "metadata": {
    "execution": {
     "iopub.execute_input": "2024-12-14T22:00:20.255522Z",
     "iopub.status.busy": "2024-12-14T22:00:20.255148Z",
     "iopub.status.idle": "2024-12-14T22:00:21.736800Z",
     "shell.execute_reply": "2024-12-14T22:00:21.735832Z",
     "shell.execute_reply.started": "2024-12-14T22:00:20.255482Z"
    },
    "trusted": true
   },
   "outputs": [],
   "source": [
    "#from google.colab import files\n",
    "import os\n",
    "import py7zr\n",
    "import os\n",
    "import dask.dataframe as dd\n",
    "import numpy as np\n",
    "import pandas as pd\n",
    "import matplotlib.pyplot as plt\n",
    "from sklearn.metrics import mean_absolute_error\n",
    "from sklearn.metrics import mean_squared_error\n",
    "from sklearn.metrics import mean_absolute_percentage_error\n",
    "from statsmodels.tsa.stattools import adfuller\n",
    "from statsmodels.graphics.tsaplots import plot_pacf\n",
    "from statsmodels.graphics.tsaplots import plot_acf\n",
    "from pydrive.auth import GoogleAuth\n",
    "from pydrive.drive import GoogleDrive\n",
    "#from google.colab import auth\n",
    "from oauth2client.client import GoogleCredentials\n",
    "from sklearn.metrics import mean_squared_error\n",
    "import numpy as np"
   ]
  },
  {
   "cell_type": "code",
   "execution_count": 17,
   "metadata": {
    "execution": {
     "iopub.execute_input": "2024-12-14T22:00:21.739031Z",
     "iopub.status.busy": "2024-12-14T22:00:21.738245Z",
     "iopub.status.idle": "2024-12-14T22:01:48.562103Z",
     "shell.execute_reply": "2024-12-14T22:01:48.560194Z",
     "shell.execute_reply.started": "2024-12-14T22:00:21.738982Z"
    },
    "trusted": true
   },
   "outputs": [
    {
     "name": "stdout",
     "output_type": "stream",
     "text": [
      "Aucun fichier .zip trouvé dans le répertoire.\n"
     ]
    }
   ],
   "source": [
    "import os\n",
    "import zipfile\n",
    "import py7zr\n",
    "import dask.dataframe as dd\n",
    "\n",
    "# Chemin vers le répertoire des fichiers téléchargés\n",
    "input_dir = '/kaggle/input/favorita-grocery-sales-forecasting/'\n",
    "\n",
    "# Chemin vers le répertoire où les fichiers seront extraits\n",
    "output_dir = '/kaggle/working/'\n",
    "\n",
    "# Fonction pour décompresser les fichiers .7z\n",
    "def extract_7z_files(input_dir, output_dir):\n",
    "    zip_files = [f for f in os.listdir(input_dir) if f.endswith('.7z')]\n",
    "    if not zip_files:\n",
    "        print(\"Aucun fichier .7z trouvé dans le répertoire.\")\n",
    "    else:\n",
    "        for zip_file in zip_files:\n",
    "            file_path = os.path.join(input_dir, zip_file)\n",
    "            try:\n",
    "                with py7zr.SevenZipFile(file_path, mode='r') as z:\n",
    "                    z.extractall(path=output_dir)\n",
    "            except Exception as e:\n",
    "                print(f\"Erreur lors de la décompression de {zip_file}: {e}\")\n",
    "\n",
    "# Fonction pour décompresser les fichiers .zip\n",
    "def extract_zip_files(input_dir, output_dir):\n",
    "    zip_files = [f for f in os.listdir(input_dir) if f.endswith('.zip')]\n",
    "    if not zip_files:\n",
    "        print(\"Aucun fichier .zip trouvé dans le répertoire.\")\n",
    "    else:\n",
    "        for zip_file in zip_files:\n",
    "            file_path = os.path.join(input_dir, zip_file)\n",
    "            try:\n",
    "                with zipfile.ZipFile(file_path, 'r') as zip_ref:\n",
    "                    zip_ref.extractall(output_dir)\n",
    "            except Exception as e:\n",
    "                print(f\"Erreur lors de la décompression de {zip_file}: {e}\")\n",
    "\n",
    "# Extraction des fichiers\n",
    "extract_7z_files(input_dir, output_dir)\n",
    "extract_zip_files(input_dir, output_dir)"
   ]
  },
  {
   "cell_type": "code",
   "execution_count": 18,
   "metadata": {
    "execution": {
     "iopub.execute_input": "2024-12-14T22:01:48.566815Z",
     "iopub.status.busy": "2024-12-14T22:01:48.566358Z",
     "iopub.status.idle": "2024-12-14T22:01:55.701437Z",
     "shell.execute_reply": "2024-12-14T22:01:55.700160Z",
     "shell.execute_reply.started": "2024-12-14T22:01:48.566763Z"
    },
    "trusted": true
   },
   "outputs": [
    {
     "name": "stdout",
     "output_type": "stream",
     "text": [
      "['train.csv', 'items.csv', 'transactions.csv', 'sample_submission.csv', '.virtual_documents', 'holidays_events.csv', 'stores.csv', 'oil.csv', 'test.csv']\n",
      "Contenu du fichier train.csv:\n",
      "    id        date  store_nbr  item_nbr  unit_sales onpromotion\n",
      "0  0.0  2013-01-01       25.0  103665.0         7.0         NaN\n",
      "1  1.0  2013-01-01       25.0  105574.0         1.0         NaN\n",
      "2  2.0  2013-01-01       25.0  105575.0         2.0         NaN\n",
      "3  3.0  2013-01-01       25.0  108079.0         1.0         NaN\n",
      "4  4.0  2013-01-01       25.0  108701.0         1.0         NaN\n",
      "Contenu du fichier items.csv:\n",
      "   item_nbr        family   class  perishable\n",
      "0   96995.0     GROCERY I  1093.0         0.0\n",
      "1   99197.0     GROCERY I  1067.0         0.0\n",
      "2  103501.0      CLEANING  3008.0         0.0\n",
      "3  103520.0     GROCERY I  1028.0         0.0\n",
      "4  103665.0  BREAD/BAKERY  2712.0         1.0\n",
      "Contenu du fichier transactions.csv:\n",
      "         date  store_nbr  transactions\n",
      "0  2013-01-01       25.0         770.0\n",
      "1  2013-01-02        1.0        2111.0\n",
      "2  2013-01-02        2.0        2358.0\n",
      "3  2013-01-02        3.0        3487.0\n",
      "4  2013-01-02        4.0        1922.0\n",
      "Contenu du fichier sample_submission.csv:\n",
      "            id  unit_sales\n",
      "0  125497040.0         0.0\n",
      "1  125497041.0         0.0\n",
      "2  125497042.0         0.0\n",
      "3  125497043.0         0.0\n",
      "4  125497044.0         0.0\n",
      "Contenu du fichier holidays_events.csv:\n",
      "         date     type    locale locale_name                    description  \\\n",
      "0  2012-03-02  Holiday     Local       Manta             Fundacion de Manta   \n",
      "1  2012-04-01  Holiday  Regional    Cotopaxi  Provincializacion de Cotopaxi   \n",
      "2  2012-04-12  Holiday     Local      Cuenca            Fundacion de Cuenca   \n",
      "3  2012-04-14  Holiday     Local    Libertad      Cantonizacion de Libertad   \n",
      "4  2012-04-21  Holiday     Local    Riobamba      Cantonizacion de Riobamba   \n",
      "\n",
      "   transferred  \n",
      "0        False  \n",
      "1        False  \n",
      "2        False  \n",
      "3        False  \n",
      "4        False  \n",
      "Contenu du fichier stores.csv:\n",
      "   store_nbr           city                           state type  cluster\n",
      "0        1.0          Quito                       Pichincha    D     13.0\n",
      "1        2.0          Quito                       Pichincha    D     13.0\n",
      "2        3.0          Quito                       Pichincha    D      8.0\n",
      "3        4.0          Quito                       Pichincha    D      9.0\n",
      "4        5.0  Santo Domingo  Santo Domingo de los Tsachilas    D      4.0\n",
      "Contenu du fichier oil.csv:\n",
      "         date  dcoilwtico\n",
      "0  2013-01-01         NaN\n",
      "1  2013-01-02       93.14\n",
      "2  2013-01-03       92.97\n",
      "3  2013-01-04       93.12\n",
      "4  2013-01-07       93.20\n",
      "Contenu du fichier test.csv:\n",
      "            id        date  store_nbr  item_nbr onpromotion\n",
      "0  125497040.0  2017-08-16        1.0   96995.0       False\n",
      "1  125497041.0  2017-08-16        1.0   99197.0       False\n",
      "2  125497042.0  2017-08-16        1.0  103501.0       False\n",
      "3  125497043.0  2017-08-16        1.0  103520.0       False\n",
      "4  125497044.0  2017-08-16        1.0  103665.0       False\n"
     ]
    },
    {
     "name": "stderr",
     "output_type": "stream",
     "text": [
      "/opt/conda/lib/python3.10/site-packages/dask/dataframe/io/csv.py:195: DtypeWarning: Columns (5) have mixed types. Specify dtype option on import or set low_memory=False.\n",
      "  df = reader(bio, **kwargs)\n"
     ]
    }
   ],
   "source": [
    "# Vérifier les fichiers extraits\n",
    "extracted_files = os.listdir(output_dir)\n",
    "print(extracted_files)\n",
    "\n",
    "# Lire les fichiers CSV avec Dask\n",
    "csv_files = [f for f in extracted_files if f.endswith('.csv')]\n",
    "\n",
    "data = {}\n",
    "for csv_file in csv_files:\n",
    "    file_path = os.path.join(output_dir, csv_file)\n",
    "    try:\n",
    "        df = dd.read_csv(file_path, assume_missing=True)\n",
    "        data[csv_file.replace('.csv', '')] = df\n",
    "    except Exception as e:\n",
    "        print(f\"Erreur lors de la lecture de {csv_file}: {e}\")\n",
    "\n",
    "# Afficher les données des fichiers CSV\n",
    "for csv_file in csv_files:\n",
    "    file_path = os.path.join(output_dir, csv_file)\n",
    "    try:\n",
    "        df = dd.read_csv(file_path, dtype={\"onpromotion\": \"object\"}, assume_missing=True)\n",
    "        print(f\"Contenu du fichier {csv_file}:\")\n",
    "        print(df.head())\n",
    "    except Exception as e:\n",
    "        print(f\"Erreur lors de la lecture de {csv_file}: {e}\")\n"
   ]
  },
  {
   "cell_type": "markdown",
   "metadata": {},
   "source": [
    "**Etape2: Préparation des données**"
   ]
  },
  {
   "cell_type": "code",
   "execution_count": 19,
   "metadata": {
    "execution": {
     "iopub.execute_input": "2024-12-14T22:01:55.703146Z",
     "iopub.status.busy": "2024-12-14T22:01:55.702794Z",
     "iopub.status.idle": "2024-12-14T22:02:00.894907Z",
     "shell.execute_reply": "2024-12-14T22:02:00.893663Z",
     "shell.execute_reply.started": "2024-12-14T22:01:55.703106Z"
    },
    "trusted": true
   },
   "outputs": [
    {
     "name": "stdout",
     "output_type": "stream",
     "text": [
      "    id        date  store_nbr  item_nbr  unit_sales  onpromotion  \\\n",
      "0  0.0  2013-01-01       25.0  103665.0         7.0          NaN   \n",
      "1  1.0  2013-01-01       25.0  105574.0         1.0          NaN   \n",
      "2  2.0  2013-01-01       25.0  105575.0         2.0          NaN   \n",
      "3  3.0  2013-01-01       25.0  108079.0         1.0          NaN   \n",
      "4  4.0  2013-01-01       25.0  108701.0         1.0          NaN   \n",
      "\n",
      "         family   class  perishable     city        state type_x  cluster  \\\n",
      "0  BREAD/BAKERY  2712.0         1.0  Salinas  Santa Elena      D      1.0   \n",
      "1     GROCERY I  1045.0         0.0  Salinas  Santa Elena      D      1.0   \n",
      "2     GROCERY I  1045.0         0.0  Salinas  Santa Elena      D      1.0   \n",
      "3     GROCERY I  1030.0         0.0  Salinas  Santa Elena      D      1.0   \n",
      "4          DELI  2644.0         1.0  Salinas  Santa Elena      D      1.0   \n",
      "\n",
      "   transactions   type_y    locale locale_name         description  \\\n",
      "0         770.0  Holiday  National     Ecuador  Primer dia del ano   \n",
      "1         770.0  Holiday  National     Ecuador  Primer dia del ano   \n",
      "2         770.0  Holiday  National     Ecuador  Primer dia del ano   \n",
      "3         770.0  Holiday  National     Ecuador  Primer dia del ano   \n",
      "4         770.0  Holiday  National     Ecuador  Primer dia del ano   \n",
      "\n",
      "  transferred  dcoilwtico  \n",
      "0       False         NaN  \n",
      "1       False         NaN  \n",
      "2       False         NaN  \n",
      "3       False         NaN  \n",
      "4       False         NaN  \n"
     ]
    }
   ],
   "source": [
    "# Fusionner les DataFrames\n",
    "train = data['train']\n",
    "items = data['items']\n",
    "stores = data['stores']\n",
    "holidays_events = data['holidays_events']\n",
    "transactions = data['transactions']\n",
    "oil = data['oil']\n",
    "\n",
    "# Fusionner les données de ventes avec les informations sur les articles et les magasins\n",
    "train = train.merge(items, on='item_nbr', how='left')\n",
    "train = train.merge(stores, on='store_nbr', how='left')\n",
    "\n",
    "# Fusionner les données de ventes avec les informations sur les transactions\n",
    "train = train.merge(transactions, on=['date', 'store_nbr'], how='left')\n",
    "\n",
    "# Fusionner les données de ventes avec les informations sur les jours fériés et les événements\n",
    "train = train.merge(holidays_events, on='date', how='left')\n",
    "\n",
    "# Fusionner les données de ventes avec les informations sur le prix du pétrole\n",
    "train = train.merge(oil, on='date', how='left')\n",
    "\n",
    "# Afficher les premières lignes du DataFrame fusionné\n",
    "print(train.head())\n"
   ]
  },
  {
   "cell_type": "code",
   "execution_count": 20,
   "metadata": {
    "execution": {
     "iopub.execute_input": "2024-12-14T22:02:00.896639Z",
     "iopub.status.busy": "2024-12-14T22:02:00.896252Z",
     "iopub.status.idle": "2024-12-14T22:02:00.904791Z",
     "shell.execute_reply": "2024-12-14T22:02:00.903595Z",
     "shell.execute_reply.started": "2024-12-14T22:02:00.896604Z"
    },
    "trusted": true
   },
   "outputs": [],
   "source": [
    "# Suppression des valeurs manquantes\n",
    "train = train.dropna(subset=['onpromotion', 'dcoilwtico', 'transactions', 'transferred', 'locale_name', 'description', 'locale', 'type_y'])\n"
   ]
  },
  {
   "cell_type": "code",
   "execution_count": 21,
   "metadata": {
    "execution": {
     "iopub.execute_input": "2024-12-14T22:02:00.906492Z",
     "iopub.status.busy": "2024-12-14T22:02:00.906115Z",
     "iopub.status.idle": "2024-12-14T22:06:44.931919Z",
     "shell.execute_reply": "2024-12-14T22:06:44.930490Z",
     "shell.execute_reply.started": "2024-12-14T22:02:00.906457Z"
    },
    "trusted": true
   },
   "outputs": [
    {
     "name": "stderr",
     "output_type": "stream",
     "text": [
      "/opt/conda/lib/python3.10/site-packages/dask/dataframe/io/csv.py:195: DtypeWarning: Columns (5) have mixed types. Specify dtype option on import or set low_memory=False.\n",
      "  df = reader(bio, **kwargs)\n"
     ]
    },
    {
     "name": "stdout",
     "output_type": "stream",
     "text": [
      "Nombre de valeurs manquantes (NA) par colonne :\n",
      "id              0\n",
      "date            0\n",
      "store_nbr       0\n",
      "item_nbr        0\n",
      "unit_sales      0\n",
      "onpromotion     0\n",
      "family          0\n",
      "class           0\n",
      "perishable      0\n",
      "city            0\n",
      "state           0\n",
      "type_x          0\n",
      "cluster         0\n",
      "transactions    0\n",
      "type_y          0\n",
      "locale          0\n",
      "locale_name     0\n",
      "description     0\n",
      "transferred     0\n",
      "dcoilwtico      0\n",
      "dtype: int64\n"
     ]
    },
    {
     "name": "stderr",
     "output_type": "stream",
     "text": [
      "/opt/conda/lib/python3.10/site-packages/dask/dataframe/io/csv.py:195: DtypeWarning: Columns (5) have mixed types. Specify dtype option on import or set low_memory=False.\n",
      "  df = reader(bio, **kwargs)\n",
      "/opt/conda/lib/python3.10/site-packages/dask/dataframe/io/csv.py:195: DtypeWarning: Columns (5) have mixed types. Specify dtype option on import or set low_memory=False.\n",
      "  df = reader(bio, **kwargs)\n"
     ]
    }
   ],
   "source": [
    "# Calcul du nombre de NA par colonne\n",
    "na_counts = train.isna().sum().compute()\n",
    "\n",
    "# Affichage des résultats\n",
    "print(\"Nombre de valeurs manquantes (NA) par colonne :\")\n",
    "print(na_counts)\n"
   ]
  },
  {
   "cell_type": "code",
   "execution_count": 22,
   "metadata": {
    "execution": {
     "iopub.execute_input": "2024-12-14T22:06:44.934715Z",
     "iopub.status.busy": "2024-12-14T22:06:44.934159Z",
     "iopub.status.idle": "2024-12-14T22:11:22.505868Z",
     "shell.execute_reply": "2024-12-14T22:11:22.504660Z",
     "shell.execute_reply.started": "2024-12-14T22:06:44.934649Z"
    },
    "trusted": true
   },
   "outputs": [
    {
     "name": "stdout",
     "output_type": "stream",
     "text": [
      "12560600\n"
     ]
    }
   ],
   "source": [
    "print(len(train))"
   ]
  },
  {
   "cell_type": "code",
   "execution_count": 23,
   "metadata": {
    "execution": {
     "iopub.execute_input": "2024-12-14T22:11:22.507855Z",
     "iopub.status.busy": "2024-12-14T22:11:22.507511Z",
     "iopub.status.idle": "2024-12-14T22:21:38.289477Z",
     "shell.execute_reply": "2024-12-14T22:21:38.288170Z",
     "shell.execute_reply.started": "2024-12-14T22:11:22.507820Z"
    },
    "trusted": true
   },
   "outputs": [
    {
     "name": "stdout",
     "output_type": "stream",
     "text": [
      "<class 'pandas.core.frame.DataFrame'>\n",
      "Index: 2009696 entries, 1499187 to 1374195\n",
      "Data columns (total 20 columns):\n",
      " #   Column        Dtype  \n",
      "---  ------        -----  \n",
      " 0   id            float64\n",
      " 1   date          object \n",
      " 2   store_nbr     float64\n",
      " 3   item_nbr      float64\n",
      " 4   unit_sales    float64\n",
      " 5   onpromotion   float64\n",
      " 6   family        object \n",
      " 7   class         float64\n",
      " 8   perishable    float64\n",
      " 9   city          object \n",
      " 10  state         object \n",
      " 11  type_x        object \n",
      " 12  cluster       float64\n",
      " 13  transactions  float64\n",
      " 14  type_y        object \n",
      " 15  locale        object \n",
      " 16  locale_name   object \n",
      " 17  description   object \n",
      " 18  transferred   object \n",
      " 19  dcoilwtico    float64\n",
      "dtypes: float64(10), object(10)\n",
      "memory usage: 322.0+ MB\n"
     ]
    }
   ],
   "source": [
    "# Trier les données par date en ordre décroissant pour obtenir les observations les plus récentes en premier\n",
    "train = train.sort_values(by='date', ascending=False)\n",
    "\n",
    "# 4. Sélectionner les 5% les plus récentes\n",
    "train_model = train.head(int(len(train) * 0.16))\n",
    "train_model.info()"
   ]
  },
  {
   "cell_type": "code",
   "execution_count": 24,
   "metadata": {
    "execution": {
     "iopub.execute_input": "2024-12-14T22:21:38.292659Z",
     "iopub.status.busy": "2024-12-14T22:21:38.292276Z",
     "iopub.status.idle": "2024-12-14T22:22:07.350402Z",
     "shell.execute_reply": "2024-12-14T22:22:07.349156Z",
     "shell.execute_reply.started": "2024-12-14T22:21:38.292623Z"
    },
    "trusted": true
   },
   "outputs": [
    {
     "name": "stdout",
     "output_type": "stream",
     "text": [
      "Le fichier CSV a été sauvegardé dans l'environnement Kaggle.\n"
     ]
    }
   ],
   "source": [
    "# Sauvegarder le DataFrame train_model sous forme de fichier CSV\n",
    "train_model.to_csv('/kaggle/working/train_model.csv', index=False)\n",
    "print(\"Le fichier CSV a été sauvegardé dans l'environnement Kaggle.\")\n"
   ]
  },
  {
   "cell_type": "code",
   "execution_count": 28,
   "metadata": {
    "execution": {
     "iopub.execute_input": "2024-12-14T22:26:37.132481Z",
     "iopub.status.busy": "2024-12-14T22:26:37.131987Z",
     "iopub.status.idle": "2024-12-14T22:27:10.510047Z",
     "shell.execute_reply": "2024-12-14T22:27:10.508708Z",
     "shell.execute_reply.started": "2024-12-14T22:26:37.132442Z"
    },
    "trusted": true
   },
   "outputs": [
    {
     "name": "stdout",
     "output_type": "stream",
     "text": [
      "            id       date  store_nbr   item_nbr  unit_sales  onpromotion  \\\n",
      "0  125458564.0 2017-08-15       37.0  1037857.0         4.0          0.0   \n",
      "1  125497024.0 2017-08-15       54.0  2081056.0         1.0          0.0   \n",
      "2  125497035.0 2017-08-15       54.0  2089339.0         4.0          0.0   \n",
      "3  125497034.0 2017-08-15       54.0  2089036.0         4.0          0.0   \n",
      "4  125497033.0 2017-08-15       54.0  2088922.0         7.0          0.0   \n",
      "\n",
      "           family   class  perishable       city  ...   type_y locale  \\\n",
      "0       BEVERAGES  1120.0         0.0     Cuenca  ...  Holiday  Local   \n",
      "1  PREPARED FOODS  2986.0         1.0  El Carmen  ...  Holiday  Local   \n",
      "2       GROCERY I  1006.0         0.0  El Carmen  ...  Holiday  Local   \n",
      "3       GROCERY I  1034.0         0.0  El Carmen  ...  Holiday  Local   \n",
      "4       GROCERY I  1076.0         0.0  El Carmen  ...  Holiday  Local   \n",
      "\n",
      "   locale_name            description transferred dcoilwtico  year month  day  \\\n",
      "0     Riobamba  Fundacion de Riobamba       False      47.57  2017     8   15   \n",
      "1     Riobamba  Fundacion de Riobamba       False      47.57  2017     8   15   \n",
      "2     Riobamba  Fundacion de Riobamba       False      47.57  2017     8   15   \n",
      "3     Riobamba  Fundacion de Riobamba       False      47.57  2017     8   15   \n",
      "4     Riobamba  Fundacion de Riobamba       False      47.57  2017     8   15   \n",
      "\n",
      "   dayofweek  \n",
      "0          1  \n",
      "1          1  \n",
      "2          1  \n",
      "3          1  \n",
      "4          1  \n",
      "\n",
      "[5 rows x 24 columns]\n",
      "Le fichier prétraité a été sauvegardé sous /kaggle/working/train_model_preprocessed.csv\n"
     ]
    }
   ],
   "source": [
    "import dask.dataframe as dd\n",
    "\n",
    "# Charger le fichier train_model.csv en utilisant Dask\n",
    "train_model = dd.read_csv('/kaggle/working/train_model.csv')\n",
    "\n",
    "# Fonction pour convertir la colonne 'date' en type datetime et extraire des fonctionnalités\n",
    "def preprocess_date(df):\n",
    "    df['date'] = dd.to_datetime(df['date'])\n",
    "    df['year'] = df['date'].dt.year\n",
    "    df['month'] = df['date'].dt.month\n",
    "    df['day'] = df['date'].dt.day\n",
    "    df['dayofweek'] = df['date'].dt.dayofweek\n",
    "    return df\n",
    "\n",
    "# Exemple d'utilisation de la fonction preprocess_date\n",
    "train_model = preprocess_date(train_model)\n",
    "\n",
    "# Afficher les premières lignes du DataFrame après prétraitement\n",
    "print(train_model.head())\n",
    "\n",
    "# Sauvegarder le DataFrame prétraité sous forme de fichier CSV\n",
    "output_file = '/kaggle/working/train_model_preprocessed.csv'\n",
    "train_model.compute().to_csv(output_file, index=False)\n",
    "print(f\"Le fichier prétraité a été sauvegardé sous {output_file}\")\n"
   ]
  },
  {
   "cell_type": "code",
   "execution_count": 33,
   "metadata": {
    "execution": {
     "iopub.execute_input": "2024-12-14T22:37:22.319126Z",
     "iopub.status.busy": "2024-12-14T22:37:22.318648Z",
     "iopub.status.idle": "2024-12-14T22:38:02.939549Z",
     "shell.execute_reply": "2024-12-14T22:38:02.938127Z",
     "shell.execute_reply.started": "2024-12-14T22:37:22.319087Z"
    },
    "trusted": true
   },
   "outputs": [
    {
     "name": "stdout",
     "output_type": "stream",
     "text": [
      "Le fichier prétraité a été sauvegardé sous /kaggle/working/train_model_preprocessed.csv\n"
     ]
    }
   ],
   "source": [
    "# Convertir en Pandas DataFrame pour la visualisation et le traitement ultérieur\n",
    "train_model_pd = train_model.compute()\n",
    "\n",
    "# Sauvegarder le DataFrame prétraité sous forme de fichier CSV\n",
    "output_file = '/kaggle/working/train_model_preprocessed.csv'\n",
    "train_model_pd.to_csv(output_file, index=False)\n",
    "print(f\"Le fichier prétraité a été sauvegardé sous {output_file}\")\n"
   ]
  },
  {
   "cell_type": "code",
   "execution_count": 34,
   "metadata": {
    "execution": {
     "iopub.execute_input": "2024-12-14T22:38:02.942684Z",
     "iopub.status.busy": "2024-12-14T22:38:02.942206Z",
     "iopub.status.idle": "2024-12-14T22:38:03.478385Z",
     "shell.execute_reply": "2024-12-14T22:38:03.477008Z",
     "shell.execute_reply.started": "2024-12-14T22:38:02.942634Z"
    },
    "trusted": true
   },
   "outputs": [
    {
     "data": {
      "image/png": "[encoded data removed]",
      "text/plain": [
       "<Figure size 1000x600 with 1 Axes>"
      ]
     },
     "metadata": {},
     "output_type": "display_data"
    }
   ],
   "source": [
    "import matplotlib.pyplot as plt\n",
    "\n",
    "# Grouper les données par date et calculer la somme des ventes\n",
    "sales_by_date = train_model_pd.groupby('date')['unit_sales'].sum()\n",
    "\n",
    "# Plot des ventes au fil du temps\n",
    "plt.figure(figsize=(10, 6))\n",
    "sales_by_date.plot(title=\"Ventes au fil du temps\")\n",
    "plt.xlabel(\"Date\")\n",
    "plt.ylabel(\"Unit Sales\")\n",
    "plt.show()\n"
   ]
  },
  {
   "cell_type": "code",
   "execution_count": 36,
   "metadata": {
    "execution": {
     "iopub.execute_input": "2024-12-14T22:54:33.390587Z",
     "iopub.status.busy": "2024-12-14T22:54:33.389386Z",
     "iopub.status.idle": "2024-12-14T22:54:38.873609Z",
     "shell.execute_reply": "2024-12-14T22:54:38.872295Z",
     "shell.execute_reply.started": "2024-12-14T22:54:33.390537Z"
    },
    "trusted": true
   },
   "outputs": [],
   "source": [
    "import dask.dataframe as dd\n",
    "from statsmodels.tsa.statespace.sarimax import SARIMAX\n",
    "\n",
    "# Charger le fichier train_model_preprocessed.csv en utilisant Dask\n",
    "train_model_preprocessed = dd.read_csv('/kaggle/working/train_model_preprocessed.csv')\n",
    "\n",
    "# Convertir le DataFrame Dask en Pandas\n",
    "train_model_pd = train_model_preprocessed.compute()\n"
   ]
  },
  {
   "cell_type": "code",
   "execution_count": null,
   "metadata": {
    "execution": {
     "iopub.execute_input": "2024-12-14T22:55:09.407682Z",
     "iopub.status.busy": "2024-12-14T22:55:09.407240Z"
    },
    "trusted": true
   },
   "outputs": [
    {
     "name": "stderr",
     "output_type": "stream",
     "text": [
      "/opt/conda/lib/python3.10/site-packages/statsmodels/tsa/base/tsa_model.py:473: ValueWarning: An unsupported index was provided and will be ignored when e.g. forecasting.\n",
      "  self._init_dates(dates, freq)\n",
      "/opt/conda/lib/python3.10/site-packages/statsmodels/tsa/base/tsa_model.py:473: ValueWarning: An unsupported index was provided and will be ignored when e.g. forecasting.\n",
      "  self._init_dates(dates, freq)\n"
     ]
    },
    {
     "name": "stdout",
     "output_type": "stream",
     "text": [
      "RUNNING THE L-BFGS-B CODE\n",
      "\n",
      "           * * *\n",
      "\n",
      "Machine precision = 2.220D-16\n",
      " N =            5     M =           10\n",
      "\n",
      "At X0         0 variables are exactly at the bounds\n",
      "\n",
      "At iterate    0    f=  4.94897D+00    |proj g|=  1.50928D-01\n"
     ]
    },
    {
     "name": "stderr",
     "output_type": "stream",
     "text": [
      " This problem is unconstrained.\n"
     ]
    },
    {
     "name": "stdout",
     "output_type": "stream",
     "text": [
      "\n",
      "At iterate    5    f=  4.88144D+00    |proj g|=  7.66049D-01\n",
      "\n",
      "At iterate   10    f=  4.85807D+00    |proj g|=  1.70776D-01\n",
      "\n",
      "At iterate   15    f=  4.85627D+00    |proj g|=  1.46507D-01\n",
      "\n",
      "At iterate   20    f=  4.85584D+00    |proj g|=  1.01679D-01\n",
      "\n",
      "At iterate   25    f=  4.83287D+00    |proj g|=  6.38003D-01\n",
      "\n",
      "At iterate   30    f=  4.71437D+00    |proj g|=  4.77501D-01\n",
      "  ys=-9.850E-04  -gs= 1.862E-03 BFGS update SKIPPED\n",
      "\n",
      "At iterate   35    f=  4.71421D+00    |proj g|=  4.79520D-01\n",
      "\n",
      "At iterate   40    f=  4.70674D+00    |proj g|=  6.84966D-01\n",
      "\n",
      "At iterate   45    f=  4.70592D+00    |proj g|=  2.87978D-01\n",
      "\n",
      "At iterate   50    f=  4.70541D+00    |proj g|=  2.73222D-01\n",
      "\n",
      "           * * *\n",
      "\n",
      "Tit   = total number of iterations\n",
      "Tnf   = total number of function evaluations\n",
      "Tnint = total number of segments explored during Cauchy searches\n",
      "Skip  = number of BFGS updates skipped\n",
      "Nact  = number of active bounds at final generalized Cauchy point\n",
      "Projg = norm of the final projected gradient\n",
      "F     = final function value\n",
      "\n",
      "           * * *\n",
      "\n",
      "   N    Tit     Tnf  Tnint  Skip  Nact     Projg        F\n",
      "    5     50    126      1     1     0   2.732D-01   4.705D+00\n",
      "  F =   4.7054095252599923     \n",
      "\n",
      "STOP: TOTAL NO. of ITERATIONS REACHED LIMIT                 \n"
     ]
    },
    {
     "name": "stderr",
     "output_type": "stream",
     "text": [
      "/opt/conda/lib/python3.10/site-packages/statsmodels/base/model.py:607: ConvergenceWarning: Maximum Likelihood optimization failed to converge. Check mle_retvals\n",
      "  warnings.warn(\"Maximum Likelihood optimization failed to \"\n"
     ]
    }
   ],
   "source": [
    "# Ajuster le modèle SARIMA\n",
    "model = SARIMAX(train_model_pd['unit_sales'], \n",
    "                order=(1, 1, 1),  # Paramètres ARIMA\n",
    "                seasonal_order=(1, 1, 1, 7),  # Paramètres saisonniers (7 jours pour la saisonnalité hebdomadaire)\n",
    "                enforce_stationarity=False, \n",
    "                enforce_invertibility=False)\n",
    "sarima_model = model.fit()\n"
   ]
  },
  {
   "cell_type": "code",
   "execution_count": null,
   "metadata": {
    "trusted": true
   },
   "outputs": [],
   "source": [
    "# Afficher un résumé du modèle ajusté\n",
    "print(sarima_model.summary())"
   ]
  }
 ],
 "metadata": {
  "kaggle": {
   "accelerator": "none",
   "dataSources": [
    {
     "databundleVersionId": 44328,
     "sourceId": 7391,
     "sourceType": "competition"
    }
   ],
   "dockerImageVersionId": 30804,
   "isGpuEnabled": false,
   "isInternetEnabled": true,
   "language": "python",
   "sourceType": "notebook"
  },
  "kernelspec": {
   "display_name": "Python 3",
   "language": "python",
   "name": "python3"
  },
  "language_info": {
   "codemirror_mode": {
    "name": "ipython",
    "version": 3
   },
   "file_extension": ".py",
   "mimetype": "text/x-python",
   "name": "python",
   "nbconvert_exporter": "python",
   "pygments_lexer": "ipython3",
   "version": "3.10.14"
  }
 },
 "nbformat": 4,
 "nbformat_minor": 4
}
